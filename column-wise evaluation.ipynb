{
 "cells": [
  {
   "cell_type": "code",
   "execution_count": 2,
   "metadata": {},
   "outputs": [],
   "source": [
    "import pandas as pd\n",
    "import numpy as np\n",
    "\n",
    "from scipy.stats import norm\n",
    "from matplotlib import pyplot as plt\n",
    "import tensorflow as tf\n",
    "import seaborn as sns\n",
    "sns.set()"
   ]
  },
  {
   "cell_type": "code",
   "execution_count": 30,
   "metadata": {},
   "outputs": [],
   "source": [
    "!jt -t grade3 -fs 95 -altp -tfs 11 -nfs 115 -cellw 88% -T"
   ]
  },
  {
   "cell_type": "markdown",
   "metadata": {},
   "source": [
    "## Import Dataset"
   ]
  },
  {
   "cell_type": "code",
   "execution_count": 27,
   "metadata": {},
   "outputs": [],
   "source": [
    "# POC DATA - tGAN 400 rows\n",
    "real_data = pd.read_csv('real_ctdata.csv')\n",
    "syn_data = pd.read_csv('tgan_synthetic_400.csv')"
   ]
  },
  {
   "cell_type": "code",
   "execution_count": 33,
   "metadata": {},
   "outputs": [],
   "source": [
    "# POC DATA ctGAN 382 rows\n",
    "real_data = pd.read_csv('real_ctdata.csv')\n",
    "syn_data = pd.read_csv('ctgan_synthetic_382.csv')"
   ]
  },
  {
   "cell_type": "code",
   "execution_count": 3,
   "metadata": {},
   "outputs": [],
   "source": [
    "# Use case 1: Length of Stay tgan\n",
    "real_data = pd.read_csv('los_use.csv')\n",
    "syn_data = pd.read_csv('los_train_tgan.csv')"
   ]
  },
  {
   "cell_type": "code",
   "execution_count": 3,
   "metadata": {},
   "outputs": [],
   "source": [
    "# Use case 1: Length of Stay ctgan\n",
    "real_data = pd.read_csv('los_use.csv')\n",
    "syn_data = pd.read_csv('los_use_ctgan_synthetic.csv')"
   ]
  },
  {
   "cell_type": "code",
   "execution_count": 18,
   "metadata": {},
   "outputs": [],
   "source": [
    "real_data = pd.read_csv('mortality_full_data.csv')\n",
    "syn_data = pd.read_csv('mortality_tgan_1.csv')"
   ]
  },
  {
   "cell_type": "code",
   "execution_count": 34,
   "metadata": {},
   "outputs": [],
   "source": [
    "real_data = real_data.loc[:, ~real_data.columns.str.contains('^Unnamed')]\n",
    "syn_data = syn_data.loc[:, ~syn_data.columns.str.contains('^Unnamed')]"
   ]
  },
  {
   "cell_type": "markdown",
   "metadata": {},
   "source": [
    "# Identify data types (if applicable)"
   ]
  },
  {
   "cell_type": "markdown",
   "metadata": {},
   "source": [
    "### Option 1: when categorical and numerical columns are known"
   ]
  },
  {
   "cell_type": "code",
   "execution_count": null,
   "metadata": {},
   "outputs": [],
   "source": [
    "cat_list = \n",
    "num_list = \n",
    "real_cat = real_data[cat_list]\n",
    "real_num = real_data[num_list]\n",
    "syn_cat = syn_data[cat_list]\n",
    "syn_num = syn_data[num_list]"
   ]
  },
  {
   "cell_type": "markdown",
   "metadata": {},
   "source": [
    "### Option 2: when categorical and numerical columns are unknown"
   ]
  },
  {
   "cell_type": "code",
   "execution_count": 35,
   "metadata": {},
   "outputs": [],
   "source": [
    "##Separate dataset by data types\n",
    "\n",
    "# get id columns\n",
    "real_id = real_data.loc[:, real_data.columns.str.contains('id|ID')]\n",
    "# get time series columns\n",
    "real_ts = real_data.loc[:, real_data.columns.str.contains(\"time|dob|dod\")]\n",
    "# get numerical columns\n",
    "real_num = real_data._get_numeric_data()\n",
    "real_bi = real_num.loc[:, real_num.columns.str.contains('has|flag|FLAG')]\n",
    "real_num = real_num.loc[:, ~real_num.columns.str.contains('id|ID|time|has|flag|FLAG')]\n",
    "# get categorical columns\n",
    "real_cat = real_data.select_dtypes('object')\n",
    "real_cat = real_cat.loc[:, ~real_cat.columns.str.contains(\"time|dob|dod\")]\n",
    "real_cat = pd.concat([real_cat, real_bi], axis=1, sort=False)\n",
    "real_cat = pd.concat([real_cat, real_id], axis=1, sort=False)\n",
    "\n",
    "##Separate synthetic dataset by data types\n",
    "# get id columns\n",
    "syn_id = syn_data.loc[:, syn_data.columns.str.contains('id|ID')]\n",
    "# get time series columns\n",
    "syn_ts = syn_data.loc[:, syn_data.columns.str.contains(\"time|dob|dod\")]\n",
    "# get numerical columns\n",
    "syn_num = syn_data._get_numeric_data()\n",
    "syn_bi = syn_num.loc[:, syn_num.columns.str.contains('has|flag|FLAG')]\n",
    "syn_num = syn_num.loc[:, ~syn_num.columns.str.contains('id|ID|time|has|flag|FLAG')]\n",
    "# get categorical columns\n",
    "syn_cat = syn_data.select_dtypes('object')\n",
    "syn_cat = syn_cat.loc[:, ~syn_cat.columns.str.contains(\"time|dob|dod\")]\n",
    "syn_cat = pd.concat([syn_cat, syn_bi], axis=1, sort=False)\n",
    "syn_cat = pd.concat([syn_cat, syn_id], axis=1, sort=False)"
   ]
  },
  {
   "cell_type": "code",
   "execution_count": 115,
   "metadata": {},
   "outputs": [],
   "source": [
    "# To identify categorical columns that are in numerical format in the dataset, I created a function to identify the likely categorical columns based on the proportion of the unique values in a variable\n",
    "def identify_cat(df):\n",
    "    likely_cat = {}\n",
    "    for var in df.columns:\n",
    "        likely_cat[var] = 1.*df[var].nunique()/df[var].count() < 0.05 #or some other threshold\n",
    "    cat_cols = []\n",
    "    for k,v in likely_cat.items():\n",
    "        if v == True:\n",
    "            cat_cols.append(k)\n",
    "    return cat_cols\n",
    "\n",
    "real_numcat = real_num[identify_cat(real_num)]\n",
    "real_cat = pd.concat([real_cat, real_numcat], axis=1, sort=False)\n",
    "real_num.drop(columns = real_numcat, inplace = True)\n",
    "syn_numcat = syn_num[identify_cat(syn_num)]\n",
    "syn_cat = pd.concat([syn_cat, syn_numcat], axis=1, sort=False)\n",
    "syn_num.drop(columns = syn_numcat, inplace = True)"
   ]
  },
  {
   "cell_type": "markdown",
   "metadata": {},
   "source": [
    "## Probability Distribution (KL-divergence)\n",
    "\n",
    "The lower the KL divergence, the closer the two distributions are to one another."
   ]
  },
  {
   "cell_type": "markdown",
   "metadata": {},
   "source": [
    "## 1) Discrete Data"
   ]
  },
  {
   "cell_type": "code",
   "execution_count": 20,
   "metadata": {},
   "outputs": [],
   "source": [
    "# p and q have to be probability distributions, which means they should be sum of 1.\n",
    "def kl_divergence(p, q):\n",
    "    return np.sum(np.where(p != 0, p * np.log(p / q), 0))\n",
    "\n",
    "from scipy.spatial import distance\n",
    "def cos_similarity(p,q):\n",
    "    return 1 - distance.cosine(p, q)"
   ]
  },
  {
   "cell_type": "code",
   "execution_count": 24,
   "metadata": {},
   "outputs": [],
   "source": [
    "# categorical data\n",
    "def discret_probs(column):\n",
    "    counts = column.value_counts()\n",
    "    freqs ={counts.index[i]: counts.values[i] for i in range(len(counts.index))} \n",
    "    probs = []\n",
    "    for k,v in freqs.items():\n",
    "        probs.append(v/len(column))\n",
    "    return np.array(probs)\n"
   ]
  },
  {
   "cell_type": "code",
   "execution_count": 36,
   "metadata": {},
   "outputs": [
    {
     "data": {
      "image/png": "[encoded data removed]",
      "text/plain": [
       "<Figure size 1152x432 with 1 Axes>"
      ]
     },
     "metadata": {
      "needs_background": "light"
     },
     "output_type": "display_data"
    }
   ],
   "source": [
    "#### categorical column \n",
    "def cat_plot(colname, realdata, syndata):\n",
    "    real_p = discret_probs(realdata[colname])\n",
    "    syn_p = discret_probs(syndata[colname])\n",
    "    real_plt = pd.DataFrame({colname:realdata[colname], 'table': 'real'})\n",
    "    syn_plt = pd.DataFrame({colname:realdata[colname], 'table': 'synthetic'})\n",
    "    df_plt = pd.concat([real_plt, syn_plt], axis=0, sort=False)\n",
    "    kl = kl_divergence(np.array(real_p), np.array(syn_p))\n",
    "    cos_sim = cos_similarity(real_p,syn_p)\n",
    "\n",
    "    plt.figure(figsize = [16, 6])\n",
    "    plt.title('KL-divergence = %1.3f , Cosine Similarity = %1.3f'% (kl, cos_sim), fontsize = 16)\n",
    "    sns.countplot(x=colname, hue=\"table\", data=df_plt)\n",
    "    plt.suptitle('Frequency Distribution Comparison (Column: {})'.format(colname), fontsize = 20)\n",
    "    plt.xlabel('Categories of Column: {}'.format(colname),fontsize = 14)\n",
    "    plt.ylabel(\"Frequency\",fontsize = 14)\n",
    "    \n",
    "cat_plot('insurance', real_cat, syn_cat)"
   ]
  },
  {
   "cell_type": "markdown",
   "metadata": {},
   "source": [
    "## 2) Continuous data"
   ]
  },
  {
   "cell_type": "code",
   "execution_count": 37,
   "metadata": {},
   "outputs": [],
   "source": [
    "\n",
    "# Replace missing values in 'Length of Stay' with 0\n",
    "real_num['los'].fillna(0, inplace = True)\n",
    "syn_num['los'].fillna(0, inplace = True)\n",
    "real_num['los'] = real_num['los'].apply(round)\n",
    "syn_num['los'] = syn_num['los'].apply(round)\n",
    "max_numlen = max(max(real_num['los']), max(syn_num['los']))\n",
    "min_numlen = min(min(real_num['los']), min(syn_num['los']))\n",
    "\n",
    "def continuous_probs(table,column):\n",
    "    counts = table[column].value_counts()\n",
    "    freqs = {counts.index[i]: counts.values[i] for i in range(len(counts.index))}\n",
    "    for i in range(min(freqs.keys()), max(freqs.keys())+1):\n",
    "        if i not in freqs.keys():\n",
    "            freqs[i] = 0\n",
    "    for j in range(max(freqs.keys()), max_numlen + 1):\n",
    "        if j not in freqs.keys():\n",
    "            freqs[j] = 0\n",
    "    for j in range(min_numlen, max(freqs.keys()) +1):\n",
    "        if j not in freqs.keys():\n",
    "            freqs[j] = 0\n",
    "    sorted_freqs = {}\n",
    "    for k in sorted(freqs.keys()):\n",
    "        sorted_freqs[k] = freqs[k]\n",
    "    probs = []\n",
    "    for k,v in sorted_freqs.items():\n",
    "        probs.append(v/len(table[column]))\n",
    "    return sorted_freqs, np.array(probs)\n",
    "\n",
    "def plot_axis(colname, realdata, syndata):\n",
    "    real_freqs = continuous_probs(realdata,colname)[0]\n",
    "    syn_freqs = continuous_probs(syndata,colname)[0]\n",
    "    keys = list(real_freqs.keys())\n",
    "    real_vals = list(real_freqs.values())\n",
    "    syn_vals = list(syn_freqs.values())    \n",
    "    x_min = min(keys)\n",
    "    x_max = max(keys)\n",
    "    y_min = min(min(real_vals), min(syn_vals)) +1\n",
    "    y_max = max(max(real_vals), max(syn_vals)) +1\n",
    "    return [x_min, x_max, y_min, y_max]\n",
    "\n"
   ]
  },
  {
   "cell_type": "code",
   "execution_count": 38,
   "metadata": {},
   "outputs": [
    {
     "data": {
      "image/png": "[encoded data removed]",
      "text/plain": [
       "<Figure size 1152x432 with 2 Axes>"
      ]
     },
     "metadata": {
      "needs_background": "light"
     },
     "output_type": "display_data"
    }
   ],
   "source": [
    "def num_plot(colname, realdata, syndata):\n",
    "    real_p = continuous_probs(realdata,colname)[1]\n",
    "    syn_p = continuous_probs(syndata,colname)[1]\n",
    "    cos_sim = cos_similarity(real_p,syn_p)\n",
    "    plt.figure(figsize = [16, 6])\n",
    "    plt.suptitle('Frequency Distribution Comparison (Cosine Similarity: %1.3f )'%  cos_sim, fontsize = 18)\n",
    "    plt.subplot(121)\n",
    "    plt.title('Synthetic Data', fontsize = 16)\n",
    "    sns.distplot(syndata[colname], color = 'b', kde = False)\n",
    "    plt.xlabel('Column: Length of Stay',fontsize = 14)\n",
    "    plt.ylabel(\"Frequency\",fontsize = 14)\n",
    "    plt.axis(plot_axis(colname, realdata, syndata))\n",
    "    plt.subplot(122)\n",
    "    plt.title('Original Data', fontsize = 16)\n",
    "    sns.distplot(realdata[colname], color = 'r', kde = False)\n",
    "    plt.xlabel('Column: Length of Stay' ,fontsize = 14)\n",
    "    plt.ylabel(\"Frequency\",fontsize = 14)\n",
    "    plt.axis(plot_axis(colname, realdata, syndata))\n",
    "    plt.show()\n",
    "        \n",
    "num_plot('los', real_num, syn_num)"
   ]
  },
  {
   "cell_type": "code",
   "execution_count": null,
   "metadata": {},
   "outputs": [],
   "source": []
  },
  {
   "cell_type": "markdown",
   "metadata": {},
   "source": [
    "## 3) Time Series Data"
   ]
  },
  {
   "cell_type": "code",
   "execution_count": 37,
   "metadata": {},
   "outputs": [
    {
     "data": {
      "text/html": [
       "<div>\n",
       "<style scoped>\n",
       "    .dataframe tbody tr th:only-of-type {\n",
       "        vertical-align: middle;\n",
       "    }\n",
       "\n",
       "    .dataframe tbody tr th {\n",
       "        vertical-align: top;\n",
       "    }\n",
       "\n",
       "    .dataframe thead th {\n",
       "        text-align: right;\n",
       "    }\n",
       "</style>\n",
       "<table border=\"1\" class=\"dataframe\">\n",
       "  <thead>\n",
       "    <tr style=\"text-align: right;\">\n",
       "      <th></th>\n",
       "    </tr>\n",
       "  </thead>\n",
       "  <tbody>\n",
       "    <tr>\n",
       "      <th>0</th>\n",
       "    </tr>\n",
       "    <tr>\n",
       "      <th>1</th>\n",
       "    </tr>\n",
       "    <tr>\n",
       "      <th>2</th>\n",
       "    </tr>\n",
       "    <tr>\n",
       "      <th>3</th>\n",
       "    </tr>\n",
       "    <tr>\n",
       "      <th>4</th>\n",
       "    </tr>\n",
       "  </tbody>\n",
       "</table>\n",
       "</div>"
      ],
      "text/plain": [
       "Empty DataFrame\n",
       "Columns: []\n",
       "Index: [0, 1, 2, 3, 4]"
      ]
     },
     "execution_count": 37,
     "metadata": {},
     "output_type": "execute_result"
    }
   ],
   "source": [
    "real_ts.head()"
   ]
  },
  {
   "cell_type": "code",
   "execution_count": 38,
   "metadata": {},
   "outputs": [
    {
     "data": {
      "text/html": [
       "<div>\n",
       "<style scoped>\n",
       "    .dataframe tbody tr th:only-of-type {\n",
       "        vertical-align: middle;\n",
       "    }\n",
       "\n",
       "    .dataframe tbody tr th {\n",
       "        vertical-align: top;\n",
       "    }\n",
       "\n",
       "    .dataframe thead th {\n",
       "        text-align: right;\n",
       "    }\n",
       "</style>\n",
       "<table border=\"1\" class=\"dataframe\">\n",
       "  <thead>\n",
       "    <tr style=\"text-align: right;\">\n",
       "      <th></th>\n",
       "    </tr>\n",
       "  </thead>\n",
       "  <tbody>\n",
       "    <tr>\n",
       "      <th>0</th>\n",
       "    </tr>\n",
       "    <tr>\n",
       "      <th>1</th>\n",
       "    </tr>\n",
       "    <tr>\n",
       "      <th>2</th>\n",
       "    </tr>\n",
       "    <tr>\n",
       "      <th>3</th>\n",
       "    </tr>\n",
       "    <tr>\n",
       "      <th>4</th>\n",
       "    </tr>\n",
       "  </tbody>\n",
       "</table>\n",
       "</div>"
      ],
      "text/plain": [
       "Empty DataFrame\n",
       "Columns: []\n",
       "Index: [0, 1, 2, 3, 4]"
      ]
     },
     "execution_count": 38,
     "metadata": {},
     "output_type": "execute_result"
    }
   ],
   "source": [
    "syn_ts.head()"
   ]
  },
  {
   "cell_type": "markdown",
   "metadata": {},
   "source": [
    "## 4) ID Data"
   ]
  },
  {
   "cell_type": "code",
   "execution_count": 39,
   "metadata": {},
   "outputs": [
    {
     "data": {
      "image/png": "[encoded data removed]",
      "text/plain": [
       "<Figure size 640x480 with 1 Axes>"
      ]
     },
     "metadata": {},
     "output_type": "display_data"
    }
   ],
   "source": [
    "# Evaluate by frequency\n",
    "def plot_id_freq_diff(real_cat, syn_cat):\n",
    "    result = []\n",
    "    for col in real_cat.columns:\n",
    "        freq_real = pd.DataFrame(real_cat[col].value_counts()/len(real_cat.index))\n",
    "        freq_syn = pd.DataFrame(syn_cat[col].value_counts()/len(syn_cat.index))\n",
    "        freq_df = pd.concat([freq_real, freq_syn], axis=1, sort=False)\n",
    "        freq_df['diff'] = abs(freq_df.iloc[:,0] - freq_df.iloc[:,1])\n",
    "        result.append(freq_df['diff'].mean())\n",
    "\n",
    "    \n",
    "    y_co = result\n",
    "    x_co = real_cat.columns\n",
    "    plt.bar(x_co,y_co, width = 0.5, color = 'black')\n",
    "    plt.title('Frequency Difference on pair-columns',fontsize=18)\n",
    "    plt.xlabel('Column',fontsize=14)\n",
    "    plt.ylabel('Frequency difference(%)',fontsize=14)\n",
    "    return plt.show() \n",
    "    \n",
    "\n",
    "plot_id_freq_diff(real_id, syn_id)"
   ]
  }
 ],
 "metadata": {
  "kernelspec": {
   "display_name": "Python 3",
   "language": "python",
   "name": "python3"
  },
  "language_info": {
   "codemirror_mode": {
    "name": "ipython",
    "version": 3
   },
   "file_extension": ".py",
   "mimetype": "text/x-python",
   "name": "python",
   "nbconvert_exporter": "python",
   "pygments_lexer": "ipython3",
   "version": "3.7.3"
  }
 },
 "nbformat": 4,
 "nbformat_minor": 2
}
